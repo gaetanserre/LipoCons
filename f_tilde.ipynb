{
 "cells": [
  {
   "cell_type": "code",
   "execution_count": 1,
   "metadata": {},
   "outputs": [],
   "source": [
    "import numpy as np\n",
    "import matplotlib.pyplot as plt"
   ]
  },
  {
   "cell_type": "code",
   "execution_count": 2,
   "metadata": {},
   "outputs": [],
   "source": [
    "def f_tilde (f, c, epsilon, mx_f, mn_f):\n",
    "  print(mx_f - mn_f)\n",
    "  def aux(x):\n",
    "    if np.abs(x - c) < epsilon:\n",
    "      return f(x) + 2*(1 - np.abs(x - c)/epsilon)*(mx_f - mn_f)\n",
    "    else:\n",
    "      return f(x)\n",
    "  return aux"
   ]
  },
  {
   "cell_type": "code",
   "execution_count": 13,
   "metadata": {},
   "outputs": [
    {
     "name": "stdout",
     "output_type": "stream",
     "text": [
      "-9.001800270034406e-08 -9.0\n",
      "8.999999909981998\n"
     ]
    },
    {
     "data": {
      "text/plain": [
       "<matplotlib.legend.Legend at 0x112ae0f50>"
      ]
     },
     "execution_count": 13,
     "metadata": {},
     "output_type": "execute_result"
    },
    {
     "data": {
      "image/png": "[encoded data removed]",
      "text/plain": [
       "<Figure size 640x480 with 1 Axes>"
      ]
     },
     "metadata": {},
     "output_type": "display_data"
    }
   ],
   "source": [
    "\"\"\" f_star = lambda x: -x**2 - 1\n",
    "x = np.linspace(-np.sqrt(0.2), np.sqrt(0.2), 10000) \"\"\"\n",
    "\n",
    "x = np.linspace(-3, 3, 10000)\n",
    "idx = np.random.randint(0, len(x))\n",
    "c = x[idx]\n",
    "epsilon = 0.8\n",
    "\n",
    "def f_star (x):\n",
    "  if np.abs(x - c) < epsilon:\n",
    "    return -2*(1 - np.abs(x - c)/epsilon)*(0 - (-2))\n",
    "  else:\n",
    "    return 0\n",
    "\n",
    "f_star = lambda x: -x**2\n",
    "\n",
    "y = [f_star(xi) for xi in x]\n",
    "plt.plot(x, y, label='f*(x)')\n",
    "\n",
    "print(np.max(y), np.min(y))\n",
    "\n",
    "f = f_tilde(f_star, c, epsilon, np.max(y), np.min(y))\n",
    "y_p = [f(xi) for xi in x]\n",
    "plt.plot(x, y_p, label='f~(x)')\n",
    "plt.vlines(x[idx], np.min(y_p), np.max(y_p), color='r', linestyle='--', label='c')\n",
    "\n",
    "plt.legend()"
   ]
  },
  {
   "cell_type": "code",
   "execution_count": 4,
   "metadata": {},
   "outputs": [
    {
     "data": {
      "text/plain": [
       "np.float64(4.0)"
      ]
     },
     "execution_count": 4,
     "metadata": {},
     "output_type": "execute_result"
    }
   ],
   "source": [
    "np.max(y_p) - np.max(y)"
   ]
  },
  {
   "cell_type": "code",
   "execution_count": 5,
   "metadata": {},
   "outputs": [
    {
     "data": {
      "text/plain": [
       "np.True_"
      ]
     },
     "execution_count": 5,
     "metadata": {},
     "output_type": "execute_result"
    }
   ],
   "source": [
    "f_star(x[idx]) + 3 * (np.max(y) - np.min(y)) - np.max(y) > np.max(y)"
   ]
  },
  {
   "cell_type": "code",
   "execution_count": 6,
   "metadata": {},
   "outputs": [
    {
     "data": {
      "text/plain": [
       "np.float64(0.0)"
      ]
     },
     "execution_count": 6,
     "metadata": {},
     "output_type": "execute_result"
    }
   ],
   "source": [
    "f_star(x[idx]) - np.min(y)"
   ]
  },
  {
   "cell_type": "code",
   "execution_count": 7,
   "metadata": {},
   "outputs": [
    {
     "data": {
      "text/plain": [
       "np.float64(0.0)"
      ]
     },
     "execution_count": 7,
     "metadata": {},
     "output_type": "execute_result"
    }
   ],
   "source": [
    "np.max(y)"
   ]
  },
  {
   "cell_type": "code",
   "execution_count": 8,
   "metadata": {},
   "outputs": [
    {
     "data": {
      "text/plain": [
       "np.float64(-1.2)"
      ]
     },
     "execution_count": 8,
     "metadata": {},
     "output_type": "execute_result"
    }
   ],
   "source": [
    "-np.sqrt(0.2)**2-1"
   ]
  },
  {
   "cell_type": "code",
   "execution_count": 9,
   "metadata": {},
   "outputs": [
    {
     "data": {
      "text/plain": [
       "-2.7"
      ]
     },
     "execution_count": 9,
     "metadata": {},
     "output_type": "execute_result"
    }
   ],
   "source": [
    "-1.2-1.5"
   ]
  },
  {
   "cell_type": "code",
   "execution_count": 10,
   "metadata": {},
   "outputs": [
    {
     "data": {
      "text/plain": [
       "np.float64(-3.2)"
      ]
     },
     "execution_count": 10,
     "metadata": {},
     "output_type": "execute_result"
    }
   ],
   "source": [
    "(1 - epsilon) * np.max(y) + f_star(c) - epsilon * f_star(1.1) + (epsilon - 1) * np.min(y)"
   ]
  },
  {
   "cell_type": "code",
   "execution_count": null,
   "metadata": {},
   "outputs": [],
   "source": []
  }
 ],
 "metadata": {
  "kernelspec": {
   "display_name": "dev",
   "language": "python",
   "name": "python3"
  },
  "language_info": {
   "codemirror_mode": {
    "name": "ipython",
    "version": 3
   },
   "file_extension": ".py",
   "mimetype": "text/x-python",
   "name": "python",
   "nbconvert_exporter": "python",
   "pygments_lexer": "ipython3",
   "version": "3.13.2"
  }
 },
 "nbformat": 4,
 "nbformat_minor": 2
}
